{
 "cells": [
  {
   "cell_type": "code",
   "execution_count": 1,
   "metadata": {},
   "outputs": [
    {
     "name": "stdout",
     "output_type": "stream",
     "text": [
      "WARNING:tensorflow:From c:\\Python311\\Lib\\site-packages\\keras\\src\\losses.py:2976: The name tf.losses.sparse_softmax_cross_entropy is deprecated. Please use tf.compat.v1.losses.sparse_softmax_cross_entropy instead.\n",
      "\n"
     ]
    }
   ],
   "source": [
    "import tensorflow as tf\n",
    "from tensorflow.keras.saving import load_model\n",
    "import cv2\n",
    "from PIL import Image\n",
    "import numpy as np\n"
   ]
  },
  {
   "cell_type": "code",
   "execution_count": 2,
   "metadata": {},
   "outputs": [
    {
     "name": "stdout",
     "output_type": "stream",
     "text": [
      "WARNING:tensorflow:From c:\\Python311\\Lib\\site-packages\\keras\\src\\backend.py:1398: The name tf.executing_eagerly_outside_functions is deprecated. Please use tf.compat.v1.executing_eagerly_outside_functions instead.\n",
      "\n",
      "WARNING:tensorflow:From c:\\Python311\\Lib\\site-packages\\keras\\src\\layers\\pooling\\max_pooling2d.py:161: The name tf.nn.max_pool is deprecated. Please use tf.nn.max_pool2d instead.\n",
      "\n"
     ]
    }
   ],
   "source": [
    "model = load_model(\"celeb-cnn-model.h5\")"
   ]
  },
  {
   "cell_type": "code",
   "execution_count": 4,
   "metadata": {},
   "outputs": [],
   "source": [
    "def make_prediction(img,model):\n",
    "    img=cv2.imread(img)\n",
    "    img=Image.fromarray(img)\n",
    "    img=img.resize((128,128))\n",
    "    img=np.array(img)\n",
    "    input_img = np.expand_dims(img, axis=0)\n",
    "    res = model.predict(input_img)\n",
    "    res = np.argmax(res,axis = 1)[0]\n",
    "    labels = {0:'Roger Federer', 1:'Virat Kohli', 2:'Lionel Messi', 3:'Maria Sharapova', 4:'Serena Williams'}\n",
    "    print(labels[res])"
   ]
  },
  {
   "cell_type": "code",
   "execution_count": 5,
   "metadata": {},
   "outputs": [
    {
     "name": "stdout",
     "output_type": "stream",
     "text": [
      "1/1 [==============================] - 0s 170ms/step\n",
      "Maria Sharapova\n",
      "--------------------------------------\n",
      "\n",
      "1/1 [==============================] - 0s 37ms/step\n",
      "Maria Sharapova\n",
      "--------------------------------------\n",
      "\n",
      "1/1 [==============================] - 0s 39ms/step\n",
      "Maria Sharapova\n",
      "--------------------------------------\n",
      "\n",
      "1/1 [==============================] - 0s 34ms/step\n",
      "Maria Sharapova\n",
      "--------------------------------------\n",
      "\n",
      "1/1 [==============================] - 0s 35ms/step\n",
      "Maria Sharapova\n",
      "--------------------------------------\n",
      "\n"
     ]
    }
   ],
   "source": [
    "make_prediction('cropped/lionel_messi/lionel_messi23.png',model)\n",
    "print(\"--------------------------------------\\n\")\n",
    "make_prediction('cropped/roger_federer/roger_federer4.png',model)\n",
    "print(\"--------------------------------------\\n\")\n",
    "make_prediction('cropped/maria_sharapova/maria_sharapova5.png',model)\n",
    "print(\"--------------------------------------\\n\")\n",
    "make_prediction('cropped/serena_williams/serena_williams17.png',model)\n",
    "print(\"--------------------------------------\\n\")\n",
    "make_prediction('cropped/virat_kohli/virat_kohli9.png',model)\n",
    "print(\"--------------------------------------\\n\")"
   ]
  }
 ],
 "metadata": {
  "kernelspec": {
   "display_name": "base",
   "language": "python",
   "name": "python3"
  },
  "language_info": {
   "codemirror_mode": {
    "name": "ipython",
    "version": 3
   },
   "file_extension": ".py",
   "mimetype": "text/x-python",
   "name": "python",
   "nbconvert_exporter": "python",
   "pygments_lexer": "ipython3",
   "version": "3.11.4"
  }
 },
 "nbformat": 4,
 "nbformat_minor": 2
}
